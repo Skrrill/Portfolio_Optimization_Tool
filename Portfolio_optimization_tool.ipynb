{
  "cells": [
    {
      "cell_type": "code",
      "execution_count": 1,
      "metadata": {
        "colab": {
          "base_uri": "https://localhost:8080/"
        },
        "id": "jnSlf6nxaM7o",
        "outputId": "5cd3ece3-79ea-4218-f2e1-7f718e55f433"
      },
      "outputs": [
        {
          "output_type": "stream",
          "name": "stdout",
          "text": [
            "Cloning into 'portfolio-optimization'...\n",
            "remote: Enumerating objects: 67, done.\u001b[K\n",
            "remote: Counting objects: 100% (4/4), done.\u001b[K\n",
            "remote: Compressing objects: 100% (4/4), done.\u001b[K\n",
            "remote: Total 67 (delta 2), reused 0 (delta 0), pack-reused 63 (from 1)\u001b[K\n",
            "Receiving objects: 100% (67/67), 285.17 KiB | 4.46 MiB/s, done.\n",
            "Resolving deltas: 100% (22/22), done.\n"
          ]
        }
      ],
      "source": [
        "!git clone https://github.com/areed1192/portfolio-optimization.git\n"
      ]
    },
    {
      "cell_type": "code",
      "execution_count": 2,
      "metadata": {
        "colab": {
          "base_uri": "https://localhost:8080/"
        },
        "id": "cJmautcmaNey",
        "outputId": "255e3fcd-3ca4-46a4-b6bb-7c4eda617362"
      },
      "outputs": [
        {
          "output_type": "stream",
          "name": "stdout",
          "text": [
            "/content/portfolio-optimization\n"
          ]
        }
      ],
      "source": [
        "%cd portfolio-optimization\n"
      ]
    },
    {
      "cell_type": "code",
      "execution_count": 3,
      "metadata": {
        "colab": {
          "base_uri": "https://localhost:8080/"
        },
        "id": "NDDKxxpKaSam",
        "outputId": "d2404d26-bb5f-4e10-abf4-9027eb3865cf"
      },
      "outputs": [
        {
          "output_type": "stream",
          "name": "stdout",
          "text": [
            "Collecting requests==2.24.0 (from -r requirements.txt (line 1))\n",
            "  Downloading requests-2.24.0-py2.py3-none-any.whl.metadata (6.9 kB)\n",
            "Collecting matplotlib==3.3.0 (from -r requirements.txt (line 2))\n",
            "  Downloading matplotlib-3.3.0.tar.gz (38.8 MB)\n",
            "\u001b[2K     \u001b[90m━━━━━━━━━━━━━━━━━━━━━━━━━━━━━━━━━━━━━━━━\u001b[0m \u001b[32m38.8/38.8 MB\u001b[0m \u001b[31m12.4 MB/s\u001b[0m eta \u001b[36m0:00:00\u001b[0m\n",
            "\u001b[?25h  Preparing metadata (setup.py) ... \u001b[?25l\u001b[?25hdone\n",
            "Collecting numpy==1.22.0 (from -r requirements.txt (line 3))\n",
            "  Downloading numpy-1.22.0.zip (11.3 MB)\n",
            "\u001b[2K     \u001b[90m━━━━━━━━━━━━━━━━━━━━━━━━━━━━━━━━━━━━━━━━\u001b[0m \u001b[32m11.3/11.3 MB\u001b[0m \u001b[31m64.6 MB/s\u001b[0m eta \u001b[36m0:00:00\u001b[0m\n",
            "\u001b[?25h  Installing build dependencies ... \u001b[?25l\u001b[?25hdone\n",
            "  Getting requirements to build wheel ... \u001b[?25l\u001b[?25hdone\n",
            "  Preparing metadata (pyproject.toml) ... \u001b[?25l\u001b[?25hdone\n",
            "Collecting pandas==1.0.5 (from -r requirements.txt (line 4))\n",
            "  Downloading pandas-1.0.5.tar.gz (5.0 MB)\n",
            "\u001b[2K     \u001b[90m━━━━━━━━━━━━━━━━━━━━━━━━━━━━━━━━━━━━━━━━\u001b[0m \u001b[32m5.0/5.0 MB\u001b[0m \u001b[31m97.9 MB/s\u001b[0m eta \u001b[36m0:00:00\u001b[0m\n",
            "\u001b[?25h  \u001b[1;31merror\u001b[0m: \u001b[1msubprocess-exited-with-error\u001b[0m\n",
            "  \n",
            "  \u001b[31m×\u001b[0m \u001b[32mpip subprocess to install build dependencies\u001b[0m did not run successfully.\n",
            "  \u001b[31m│\u001b[0m exit code: \u001b[1;36m1\u001b[0m\n",
            "  \u001b[31m╰─>\u001b[0m See above for output.\n",
            "  \n",
            "  \u001b[1;35mnote\u001b[0m: This error originates from a subprocess, and is likely not a problem with pip.\n",
            "  Installing build dependencies ... \u001b[?25l\u001b[?25herror\n",
            "\u001b[1;31merror\u001b[0m: \u001b[1msubprocess-exited-with-error\u001b[0m\n",
            "\n",
            "\u001b[31m×\u001b[0m \u001b[32mpip subprocess to install build dependencies\u001b[0m did not run successfully.\n",
            "\u001b[31m│\u001b[0m exit code: \u001b[1;36m1\u001b[0m\n",
            "\u001b[31m╰─>\u001b[0m See above for output.\n",
            "\n",
            "\u001b[1;35mnote\u001b[0m: This error originates from a subprocess, and is likely not a problem with pip.\n"
          ]
        }
      ],
      "source": [
        "!pip install -r requirements.txt\n"
      ]
    },
    {
      "cell_type": "code",
      "execution_count": 4,
      "metadata": {
        "colab": {
          "base_uri": "https://localhost:8080/"
        },
        "id": "QYvfGDqZasar",
        "outputId": "044fbe5e-c89e-44d2-eb10-865341646325"
      },
      "outputs": [
        {
          "output_type": "stream",
          "name": "stdout",
          "text": [
            "Obtaining file:///content/portfolio-optimization\n",
            "  Preparing metadata (setup.py) ... \u001b[?25l\u001b[?25hdone\n",
            "Collecting requests==2.24.0 (from py-portfolio==0.0.1)\n",
            "  Using cached requests-2.24.0-py2.py3-none-any.whl.metadata (6.9 kB)\n",
            "Collecting matplotlib==3.3.0 (from py-portfolio==0.0.1)\n",
            "  Using cached matplotlib-3.3.0.tar.gz (38.8 MB)\n",
            "  Preparing metadata (setup.py) ... \u001b[?25l\u001b[?25hdone\n",
            "Collecting numpy==1.22.0 (from py-portfolio==0.0.1)\n",
            "  Using cached numpy-1.22.0.zip (11.3 MB)\n",
            "  Installing build dependencies ... \u001b[?25l\u001b[?25hdone\n",
            "  Getting requirements to build wheel ... \u001b[?25l\u001b[?25hdone\n",
            "  Preparing metadata (pyproject.toml) ... \u001b[?25l\u001b[?25hdone\n",
            "Collecting pandas==1.0.5 (from py-portfolio==0.0.1)\n",
            "  Using cached pandas-1.0.5.tar.gz (5.0 MB)\n",
            "  \u001b[1;31merror\u001b[0m: \u001b[1msubprocess-exited-with-error\u001b[0m\n",
            "  \n",
            "  \u001b[31m×\u001b[0m \u001b[32mpip subprocess to install build dependencies\u001b[0m did not run successfully.\n",
            "  \u001b[31m│\u001b[0m exit code: \u001b[1;36m1\u001b[0m\n",
            "  \u001b[31m╰─>\u001b[0m See above for output.\n",
            "  \n",
            "  \u001b[1;35mnote\u001b[0m: This error originates from a subprocess, and is likely not a problem with pip.\n",
            "  Installing build dependencies ... \u001b[?25l\u001b[?25herror\n",
            "\u001b[1;31merror\u001b[0m: \u001b[1msubprocess-exited-with-error\u001b[0m\n",
            "\n",
            "\u001b[31m×\u001b[0m \u001b[32mpip subprocess to install build dependencies\u001b[0m did not run successfully.\n",
            "\u001b[31m│\u001b[0m exit code: \u001b[1;36m1\u001b[0m\n",
            "\u001b[31m╰─>\u001b[0m See above for output.\n",
            "\n",
            "\u001b[1;35mnote\u001b[0m: This error originates from a subprocess, and is likely not a problem with pip.\n"
          ]
        }
      ],
      "source": [
        "pip install -e .\n"
      ]
    },
    {
      "cell_type": "code",
      "execution_count": 5,
      "metadata": {
        "id": "pjG7GqLAbBx-",
        "colab": {
          "base_uri": "https://localhost:8080/"
        },
        "outputId": "a14fdce1-d174-402d-8c9a-043b8b98f187"
      },
      "outputs": [
        {
          "output_type": "stream",
          "name": "stdout",
          "text": [
            "Collecting fake-useragent\n",
            "  Downloading fake_useragent-2.2.0-py3-none-any.whl.metadata (17 kB)\n",
            "Downloading fake_useragent-2.2.0-py3-none-any.whl (161 kB)\n",
            "\u001b[2K   \u001b[90m━━━━━━━━━━━━━━━━━━━━━━━━━━━━━━━━━━━━━━━━\u001b[0m \u001b[32m161.7/161.7 kB\u001b[0m \u001b[31m3.5 MB/s\u001b[0m eta \u001b[36m0:00:00\u001b[0m\n",
            "\u001b[?25hInstalling collected packages: fake-useragent\n",
            "Successfully installed fake-useragent-2.2.0\n"
          ]
        }
      ],
      "source": [
        "!pip install fake-useragent\n",
        "import pathlib\n",
        "import numpy as np\n",
        "import pandas as pd\n",
        "import matplotlib.pyplot as plt\n",
        "import scipy.optimize as sci_plt\n",
        "\n",
        "from pprint import pprint\n",
        "from sklearn.preprocessing import StandardScaler\n",
        "from fake_useragent import UserAgent\n",
        "from pyopt.client import PriceHistory\n",
        "\n",
        "pd.set_option('display.max_colwidth', None)\n",
        "pd.set_option('expand_frame_repr', False)"
      ]
    },
    {
      "cell_type": "code",
      "source": [
        "import pathlib\n",
        "symbols = ['AAPL', 'MSFT', 'SQ', 'AMZN']\n",
        "number_of_symbols = len(symbols)\n",
        "\n",
        "if not pathlib.Path(r\"/content/portfolio-optimization/data/stock_data.csv\").exists():\n",
        "\n",
        "  price_history_client = PriceHistory(\n",
        "      symbols=symbols, user_agent = UserAgent().edge\n",
        "      )\n",
        "  price_history_client.price_data_frame.to_csv(\n",
        "      '/content/portfolio-optimization/data/stock_data.csv',\n",
        "      index=False\n",
        "  )\n",
        "  pprint(price_history_client.price_data_frame)\n",
        "  price_data_frame: pd.DataFrame = price_history_client.price_data_frame\n",
        "  if not all(col in price_data_frame.columns for col in ['date', 'symbol', 'close']):\n",
        "      print(\"Warning: Expected columns ('date', 'symbol', 'close') not found in PriceHistory data.\")\n",
        "\n",
        "      print(\"PriceHistory DataFrame columns:\", price_data_frame.columns)\n",
        "\n",
        "  price_data_frame[['date', 'symbol', 'close']].to_csv(\n",
        "      '/content/portfolio-optimization/data/stock_data.csv',\n",
        "      index=False\n",
        "  )\n",
        "  pprint(price_data_frame[['date', 'symbol', 'close']])\n",
        "\n",
        "else:\n",
        "  price_data_frame: pd.DataFrame = pd.read_csv(r'/content/portfolio-optimization/data/stock_data.csv')\n",
        "\n",
        "  print(\"Columns after loading from CSV:\", price_data_frame.columns)\n",
        "\n",
        "price_data_frame = price_data_frame[['date', 'symbol', 'close']]\n",
        "print(price_data_frame.head())\n",
        "\n"
      ],
      "metadata": {
        "colab": {
          "base_uri": "https://localhost:8080/"
        },
        "id": "guDsr4gZyfpM",
        "outputId": "6a3d1930-8dd6-422d-955c-51ee35c49143"
      },
      "execution_count": 6,
      "outputs": [
        {
          "output_type": "stream",
          "name": "stdout",
          "text": [
            "Columns after loading from CSV: Index(['date', 'close', 'volume', 'open', 'high', 'low', 'symbol'], dtype='object')\n",
            "         date symbol   close\n",
            "0  2020-07-23     SQ  122.93\n",
            "1  2020-07-22     SQ  129.18\n",
            "2  2020-07-21     SQ  126.99\n",
            "3  2020-07-20     SQ  128.39\n",
            "4  2020-07-17     SQ  120.73\n"
          ]
        }
      ]
    },
    {
      "cell_type": "code",
      "source": [
        "price_data_frame = price_data_frame[['date', 'symbol', 'close']]\n",
        "\n",
        "\n",
        "price_data_frame = price_data_frame.pivot(\n",
        "    index='date', columns='symbol', values='close'\n",
        "    )\n",
        "\n",
        "price_data_frame = price_data_frame.reindex(columns=symbols)\n",
        "\n",
        "display(price_data_frame)"
      ],
      "metadata": {
        "colab": {
          "base_uri": "https://localhost:8080/",
          "height": 455
        },
        "id": "WdHY4TeojyEj",
        "outputId": "d012616f-a35d-495c-b8de-f12c13564707"
      },
      "execution_count": 7,
      "outputs": [
        {
          "output_type": "display_data",
          "data": {
            "text/plain": [
              "symbol        AAPL    MSFT      SQ  AMZN\n",
              "date                                    \n",
              "2020-01-24  318.31  165.04   71.14   NaN\n",
              "2020-01-27  308.95  162.28   71.05   NaN\n",
              "2020-01-28  317.69  165.46   74.80   NaN\n",
              "2020-01-29  324.34  168.04   76.16   NaN\n",
              "2020-01-30  323.87  172.78   76.10   NaN\n",
              "...            ...     ...     ...   ...\n",
              "2020-07-17  385.31  202.88  120.73   NaN\n",
              "2020-07-20  393.43  211.60  128.39   NaN\n",
              "2020-07-21  388.00  208.75  126.99   NaN\n",
              "2020-07-22  389.09  211.75  129.18   NaN\n",
              "2020-07-23  371.38  202.54  122.93   NaN\n",
              "\n",
              "[126 rows x 4 columns]"
            ],
            "text/html": [
              "\n",
              "  <div id=\"df-e725e125-e5a0-4785-95fb-583710ba9b91\" class=\"colab-df-container\">\n",
              "    <div>\n",
              "<style scoped>\n",
              "    .dataframe tbody tr th:only-of-type {\n",
              "        vertical-align: middle;\n",
              "    }\n",
              "\n",
              "    .dataframe tbody tr th {\n",
              "        vertical-align: top;\n",
              "    }\n",
              "\n",
              "    .dataframe thead th {\n",
              "        text-align: right;\n",
              "    }\n",
              "</style>\n",
              "<table border=\"1\" class=\"dataframe\">\n",
              "  <thead>\n",
              "    <tr style=\"text-align: right;\">\n",
              "      <th>symbol</th>\n",
              "      <th>AAPL</th>\n",
              "      <th>MSFT</th>\n",
              "      <th>SQ</th>\n",
              "      <th>AMZN</th>\n",
              "    </tr>\n",
              "    <tr>\n",
              "      <th>date</th>\n",
              "      <th></th>\n",
              "      <th></th>\n",
              "      <th></th>\n",
              "      <th></th>\n",
              "    </tr>\n",
              "  </thead>\n",
              "  <tbody>\n",
              "    <tr>\n",
              "      <th>2020-01-24</th>\n",
              "      <td>318.31</td>\n",
              "      <td>165.04</td>\n",
              "      <td>71.14</td>\n",
              "      <td>NaN</td>\n",
              "    </tr>\n",
              "    <tr>\n",
              "      <th>2020-01-27</th>\n",
              "      <td>308.95</td>\n",
              "      <td>162.28</td>\n",
              "      <td>71.05</td>\n",
              "      <td>NaN</td>\n",
              "    </tr>\n",
              "    <tr>\n",
              "      <th>2020-01-28</th>\n",
              "      <td>317.69</td>\n",
              "      <td>165.46</td>\n",
              "      <td>74.80</td>\n",
              "      <td>NaN</td>\n",
              "    </tr>\n",
              "    <tr>\n",
              "      <th>2020-01-29</th>\n",
              "      <td>324.34</td>\n",
              "      <td>168.04</td>\n",
              "      <td>76.16</td>\n",
              "      <td>NaN</td>\n",
              "    </tr>\n",
              "    <tr>\n",
              "      <th>2020-01-30</th>\n",
              "      <td>323.87</td>\n",
              "      <td>172.78</td>\n",
              "      <td>76.10</td>\n",
              "      <td>NaN</td>\n",
              "    </tr>\n",
              "    <tr>\n",
              "      <th>...</th>\n",
              "      <td>...</td>\n",
              "      <td>...</td>\n",
              "      <td>...</td>\n",
              "      <td>...</td>\n",
              "    </tr>\n",
              "    <tr>\n",
              "      <th>2020-07-17</th>\n",
              "      <td>385.31</td>\n",
              "      <td>202.88</td>\n",
              "      <td>120.73</td>\n",
              "      <td>NaN</td>\n",
              "    </tr>\n",
              "    <tr>\n",
              "      <th>2020-07-20</th>\n",
              "      <td>393.43</td>\n",
              "      <td>211.60</td>\n",
              "      <td>128.39</td>\n",
              "      <td>NaN</td>\n",
              "    </tr>\n",
              "    <tr>\n",
              "      <th>2020-07-21</th>\n",
              "      <td>388.00</td>\n",
              "      <td>208.75</td>\n",
              "      <td>126.99</td>\n",
              "      <td>NaN</td>\n",
              "    </tr>\n",
              "    <tr>\n",
              "      <th>2020-07-22</th>\n",
              "      <td>389.09</td>\n",
              "      <td>211.75</td>\n",
              "      <td>129.18</td>\n",
              "      <td>NaN</td>\n",
              "    </tr>\n",
              "    <tr>\n",
              "      <th>2020-07-23</th>\n",
              "      <td>371.38</td>\n",
              "      <td>202.54</td>\n",
              "      <td>122.93</td>\n",
              "      <td>NaN</td>\n",
              "    </tr>\n",
              "  </tbody>\n",
              "</table>\n",
              "<p>126 rows × 4 columns</p>\n",
              "</div>\n",
              "    <div class=\"colab-df-buttons\">\n",
              "\n",
              "  <div class=\"colab-df-container\">\n",
              "    <button class=\"colab-df-convert\" onclick=\"convertToInteractive('df-e725e125-e5a0-4785-95fb-583710ba9b91')\"\n",
              "            title=\"Convert this dataframe to an interactive table.\"\n",
              "            style=\"display:none;\">\n",
              "\n",
              "  <svg xmlns=\"http://www.w3.org/2000/svg\" height=\"24px\" viewBox=\"0 -960 960 960\">\n",
              "    <path d=\"M120-120v-720h720v720H120Zm60-500h600v-160H180v160Zm220 220h160v-160H400v160Zm0 220h160v-160H400v160ZM180-400h160v-160H180v160Zm440 0h160v-160H620v160ZM180-180h160v-160H180v160Zm440 0h160v-160H620v160Z\"/>\n",
              "  </svg>\n",
              "    </button>\n",
              "\n",
              "  <style>\n",
              "    .colab-df-container {\n",
              "      display:flex;\n",
              "      gap: 12px;\n",
              "    }\n",
              "\n",
              "    .colab-df-convert {\n",
              "      background-color: #E8F0FE;\n",
              "      border: none;\n",
              "      border-radius: 50%;\n",
              "      cursor: pointer;\n",
              "      display: none;\n",
              "      fill: #1967D2;\n",
              "      height: 32px;\n",
              "      padding: 0 0 0 0;\n",
              "      width: 32px;\n",
              "    }\n",
              "\n",
              "    .colab-df-convert:hover {\n",
              "      background-color: #E2EBFA;\n",
              "      box-shadow: 0px 1px 2px rgba(60, 64, 67, 0.3), 0px 1px 3px 1px rgba(60, 64, 67, 0.15);\n",
              "      fill: #174EA6;\n",
              "    }\n",
              "\n",
              "    .colab-df-buttons div {\n",
              "      margin-bottom: 4px;\n",
              "    }\n",
              "\n",
              "    [theme=dark] .colab-df-convert {\n",
              "      background-color: #3B4455;\n",
              "      fill: #D2E3FC;\n",
              "    }\n",
              "\n",
              "    [theme=dark] .colab-df-convert:hover {\n",
              "      background-color: #434B5C;\n",
              "      box-shadow: 0px 1px 3px 1px rgba(0, 0, 0, 0.15);\n",
              "      filter: drop-shadow(0px 1px 2px rgba(0, 0, 0, 0.3));\n",
              "      fill: #FFFFFF;\n",
              "    }\n",
              "  </style>\n",
              "\n",
              "    <script>\n",
              "      const buttonEl =\n",
              "        document.querySelector('#df-e725e125-e5a0-4785-95fb-583710ba9b91 button.colab-df-convert');\n",
              "      buttonEl.style.display =\n",
              "        google.colab.kernel.accessAllowed ? 'block' : 'none';\n",
              "\n",
              "      async function convertToInteractive(key) {\n",
              "        const element = document.querySelector('#df-e725e125-e5a0-4785-95fb-583710ba9b91');\n",
              "        const dataTable =\n",
              "          await google.colab.kernel.invokeFunction('convertToInteractive',\n",
              "                                                    [key], {});\n",
              "        if (!dataTable) return;\n",
              "\n",
              "        const docLinkHtml = 'Like what you see? Visit the ' +\n",
              "          '<a target=\"_blank\" href=https://colab.research.google.com/notebooks/data_table.ipynb>data table notebook</a>'\n",
              "          + ' to learn more about interactive tables.';\n",
              "        element.innerHTML = '';\n",
              "        dataTable['output_type'] = 'display_data';\n",
              "        await google.colab.output.renderOutput(dataTable, element);\n",
              "        const docLink = document.createElement('div');\n",
              "        docLink.innerHTML = docLinkHtml;\n",
              "        element.appendChild(docLink);\n",
              "      }\n",
              "    </script>\n",
              "  </div>\n",
              "\n",
              "\n",
              "    <div id=\"df-b657ca60-6b30-40bf-8d3c-0096e967be65\">\n",
              "      <button class=\"colab-df-quickchart\" onclick=\"quickchart('df-b657ca60-6b30-40bf-8d3c-0096e967be65')\"\n",
              "                title=\"Suggest charts\"\n",
              "                style=\"display:none;\">\n",
              "\n",
              "<svg xmlns=\"http://www.w3.org/2000/svg\" height=\"24px\"viewBox=\"0 0 24 24\"\n",
              "     width=\"24px\">\n",
              "    <g>\n",
              "        <path d=\"M19 3H5c-1.1 0-2 .9-2 2v14c0 1.1.9 2 2 2h14c1.1 0 2-.9 2-2V5c0-1.1-.9-2-2-2zM9 17H7v-7h2v7zm4 0h-2V7h2v10zm4 0h-2v-4h2v4z\"/>\n",
              "    </g>\n",
              "</svg>\n",
              "      </button>\n",
              "\n",
              "<style>\n",
              "  .colab-df-quickchart {\n",
              "      --bg-color: #E8F0FE;\n",
              "      --fill-color: #1967D2;\n",
              "      --hover-bg-color: #E2EBFA;\n",
              "      --hover-fill-color: #174EA6;\n",
              "      --disabled-fill-color: #AAA;\n",
              "      --disabled-bg-color: #DDD;\n",
              "  }\n",
              "\n",
              "  [theme=dark] .colab-df-quickchart {\n",
              "      --bg-color: #3B4455;\n",
              "      --fill-color: #D2E3FC;\n",
              "      --hover-bg-color: #434B5C;\n",
              "      --hover-fill-color: #FFFFFF;\n",
              "      --disabled-bg-color: #3B4455;\n",
              "      --disabled-fill-color: #666;\n",
              "  }\n",
              "\n",
              "  .colab-df-quickchart {\n",
              "    background-color: var(--bg-color);\n",
              "    border: none;\n",
              "    border-radius: 50%;\n",
              "    cursor: pointer;\n",
              "    display: none;\n",
              "    fill: var(--fill-color);\n",
              "    height: 32px;\n",
              "    padding: 0;\n",
              "    width: 32px;\n",
              "  }\n",
              "\n",
              "  .colab-df-quickchart:hover {\n",
              "    background-color: var(--hover-bg-color);\n",
              "    box-shadow: 0 1px 2px rgba(60, 64, 67, 0.3), 0 1px 3px 1px rgba(60, 64, 67, 0.15);\n",
              "    fill: var(--button-hover-fill-color);\n",
              "  }\n",
              "\n",
              "  .colab-df-quickchart-complete:disabled,\n",
              "  .colab-df-quickchart-complete:disabled:hover {\n",
              "    background-color: var(--disabled-bg-color);\n",
              "    fill: var(--disabled-fill-color);\n",
              "    box-shadow: none;\n",
              "  }\n",
              "\n",
              "  .colab-df-spinner {\n",
              "    border: 2px solid var(--fill-color);\n",
              "    border-color: transparent;\n",
              "    border-bottom-color: var(--fill-color);\n",
              "    animation:\n",
              "      spin 1s steps(1) infinite;\n",
              "  }\n",
              "\n",
              "  @keyframes spin {\n",
              "    0% {\n",
              "      border-color: transparent;\n",
              "      border-bottom-color: var(--fill-color);\n",
              "      border-left-color: var(--fill-color);\n",
              "    }\n",
              "    20% {\n",
              "      border-color: transparent;\n",
              "      border-left-color: var(--fill-color);\n",
              "      border-top-color: var(--fill-color);\n",
              "    }\n",
              "    30% {\n",
              "      border-color: transparent;\n",
              "      border-left-color: var(--fill-color);\n",
              "      border-top-color: var(--fill-color);\n",
              "      border-right-color: var(--fill-color);\n",
              "    }\n",
              "    40% {\n",
              "      border-color: transparent;\n",
              "      border-right-color: var(--fill-color);\n",
              "      border-top-color: var(--fill-color);\n",
              "    }\n",
              "    60% {\n",
              "      border-color: transparent;\n",
              "      border-right-color: var(--fill-color);\n",
              "    }\n",
              "    80% {\n",
              "      border-color: transparent;\n",
              "      border-right-color: var(--fill-color);\n",
              "      border-bottom-color: var(--fill-color);\n",
              "    }\n",
              "    90% {\n",
              "      border-color: transparent;\n",
              "      border-bottom-color: var(--fill-color);\n",
              "    }\n",
              "  }\n",
              "</style>\n",
              "\n",
              "      <script>\n",
              "        async function quickchart(key) {\n",
              "          const quickchartButtonEl =\n",
              "            document.querySelector('#' + key + ' button');\n",
              "          quickchartButtonEl.disabled = true;  // To prevent multiple clicks.\n",
              "          quickchartButtonEl.classList.add('colab-df-spinner');\n",
              "          try {\n",
              "            const charts = await google.colab.kernel.invokeFunction(\n",
              "                'suggestCharts', [key], {});\n",
              "          } catch (error) {\n",
              "            console.error('Error during call to suggestCharts:', error);\n",
              "          }\n",
              "          quickchartButtonEl.classList.remove('colab-df-spinner');\n",
              "          quickchartButtonEl.classList.add('colab-df-quickchart-complete');\n",
              "        }\n",
              "        (() => {\n",
              "          let quickchartButtonEl =\n",
              "            document.querySelector('#df-b657ca60-6b30-40bf-8d3c-0096e967be65 button');\n",
              "          quickchartButtonEl.style.display =\n",
              "            google.colab.kernel.accessAllowed ? 'block' : 'none';\n",
              "        })();\n",
              "      </script>\n",
              "    </div>\n",
              "\n",
              "  <div id=\"id_d63344ed-b33d-456b-9e5c-83d5962bb6a5\">\n",
              "    <style>\n",
              "      .colab-df-generate {\n",
              "        background-color: #E8F0FE;\n",
              "        border: none;\n",
              "        border-radius: 50%;\n",
              "        cursor: pointer;\n",
              "        display: none;\n",
              "        fill: #1967D2;\n",
              "        height: 32px;\n",
              "        padding: 0 0 0 0;\n",
              "        width: 32px;\n",
              "      }\n",
              "\n",
              "      .colab-df-generate:hover {\n",
              "        background-color: #E2EBFA;\n",
              "        box-shadow: 0px 1px 2px rgba(60, 64, 67, 0.3), 0px 1px 3px 1px rgba(60, 64, 67, 0.15);\n",
              "        fill: #174EA6;\n",
              "      }\n",
              "\n",
              "      [theme=dark] .colab-df-generate {\n",
              "        background-color: #3B4455;\n",
              "        fill: #D2E3FC;\n",
              "      }\n",
              "\n",
              "      [theme=dark] .colab-df-generate:hover {\n",
              "        background-color: #434B5C;\n",
              "        box-shadow: 0px 1px 3px 1px rgba(0, 0, 0, 0.15);\n",
              "        filter: drop-shadow(0px 1px 2px rgba(0, 0, 0, 0.3));\n",
              "        fill: #FFFFFF;\n",
              "      }\n",
              "    </style>\n",
              "    <button class=\"colab-df-generate\" onclick=\"generateWithVariable('price_data_frame')\"\n",
              "            title=\"Generate code using this dataframe.\"\n",
              "            style=\"display:none;\">\n",
              "\n",
              "  <svg xmlns=\"http://www.w3.org/2000/svg\" height=\"24px\"viewBox=\"0 0 24 24\"\n",
              "       width=\"24px\">\n",
              "    <path d=\"M7,19H8.4L18.45,9,17,7.55,7,17.6ZM5,21V16.75L18.45,3.32a2,2,0,0,1,2.83,0l1.4,1.43a1.91,1.91,0,0,1,.58,1.4,1.91,1.91,0,0,1-.58,1.4L9.25,21ZM18.45,9,17,7.55Zm-12,3A5.31,5.31,0,0,0,4.9,8.1,5.31,5.31,0,0,0,1,6.5,5.31,5.31,0,0,0,4.9,4.9,5.31,5.31,0,0,0,6.5,1,5.31,5.31,0,0,0,8.1,4.9,5.31,5.31,0,0,0,12,6.5,5.46,5.46,0,0,0,6.5,12Z\"/>\n",
              "  </svg>\n",
              "    </button>\n",
              "    <script>\n",
              "      (() => {\n",
              "      const buttonEl =\n",
              "        document.querySelector('#id_d63344ed-b33d-456b-9e5c-83d5962bb6a5 button.colab-df-generate');\n",
              "      buttonEl.style.display =\n",
              "        google.colab.kernel.accessAllowed ? 'block' : 'none';\n",
              "\n",
              "      buttonEl.onclick = () => {\n",
              "        google.colab.notebook.generateWithVariable('price_data_frame');\n",
              "      }\n",
              "      })();\n",
              "    </script>\n",
              "  </div>\n",
              "\n",
              "    </div>\n",
              "  </div>\n"
            ],
            "application/vnd.google.colaboratory.intrinsic+json": {
              "type": "dataframe",
              "variable_name": "price_data_frame",
              "summary": "{\n  \"name\": \"price_data_frame\",\n  \"rows\": 126,\n  \"fields\": [\n    {\n      \"column\": \"date\",\n      \"properties\": {\n        \"dtype\": \"object\",\n        \"num_unique_values\": 126,\n        \"samples\": [\n          \"2020-05-08\",\n          \"2020-02-21\",\n          \"2020-07-10\"\n        ],\n        \"semantic_type\": \"\",\n        \"description\": \"\"\n      }\n    },\n    {\n      \"column\": \"AAPL\",\n      \"properties\": {\n        \"dtype\": \"number\",\n        \"std\": 41.6967048086346,\n        \"min\": 224.37,\n        \"max\": 393.43,\n        \"num_unique_values\": 125,\n        \"samples\": [\n          320.3,\n          245.52,\n          252.86\n        ],\n        \"semantic_type\": \"\",\n        \"description\": \"\"\n      }\n    },\n    {\n      \"column\": \"MSFT\",\n      \"properties\": {\n        \"dtype\": \"number\",\n        \"std\": 18.597473660995693,\n        \"min\": 135.42,\n        \"max\": 214.32,\n        \"num_unique_values\": 124,\n        \"samples\": [\n          184.42,\n          146.92,\n          146.57\n        ],\n        \"semantic_type\": \"\",\n        \"description\": \"\"\n      }\n    },\n    {\n      \"column\": \"SQ\",\n      \"properties\": {\n        \"dtype\": \"number\",\n        \"std\": 22.82232801725066,\n        \"min\": 38.09,\n        \"max\": 133.35,\n        \"num_unique_values\": 125,\n        \"samples\": [\n          85.7,\n          52.39,\n          44.73\n        ],\n        \"semantic_type\": \"\",\n        \"description\": \"\"\n      }\n    },\n    {\n      \"column\": \"AMZN\",\n      \"properties\": {\n        \"dtype\": \"number\",\n        \"std\": null,\n        \"min\": null,\n        \"max\": null,\n        \"num_unique_values\": 0,\n        \"samples\": [],\n        \"semantic_type\": \"\",\n        \"description\": \"\"\n      }\n    }\n  ]\n}"
            }
          },
          "metadata": {}
        }
      ]
    },
    {
      "cell_type": "code",
      "source": [
        "log_return = np.log(1 + price_data_frame.pct_change())\n",
        "\n",
        "random_weights = np.array(np.random.random(len(log_return.columns)))\n",
        "display(random_weights)\n",
        "rebalance_weights = random_weights/np.sum(random_weights)\n",
        "\n",
        "exp_ret = np.sum((log_return.mean() * rebalance_weights) * 252)\n",
        "\n",
        "exp_vol = np.sqrt(\n",
        "    np.dot(\n",
        "        rebalance_weights.T,\n",
        "        np.dot(log_return.cov() * 252,\n",
        "               rebalance_weights)\n",
        "        )\n",
        ")\n",
        "\n",
        "sharpe_ratio = (exp_ret - 0.1)/exp_vol\n",
        "\n",
        "\n",
        "weights_df = pd.DataFrame(data={\n",
        "    'random_weights': random_weights,\n",
        "    'rebalance_weights': rebalance_weights\n",
        "})\n",
        "\n",
        "print('')\n",
        "print('=' * 80)\n",
        "print('PORTFOLIO WEIGHTS:')\n",
        "print('-' * 80)\n",
        "print(weights_df)\n",
        "print('-' * 80)\n",
        "\n",
        "\n",
        "metrics_df = pd.DataFrame(data={\n",
        "    'Expected Portfolio Returns': exp_ret,\n",
        "    'Expected Portfolio Volatility': exp_vol,\n",
        "    'Portfolio Sharpe Ratio': sharpe_ratio\n",
        "}, index=[0])\n",
        "\n",
        "print('')\n",
        "print('=' * 80)\n",
        "print('PORTFOLIO METRICS:')\n",
        "print('-' * 80)\n",
        "print(metrics_df)\n",
        "print('-' * 80)"
      ],
      "metadata": {
        "colab": {
          "base_uri": "https://localhost:8080/",
          "height": 384
        },
        "id": "WmQeKr_5v63s",
        "outputId": "cd9a5dd6-99cd-4f30-b8ff-51aab413c5af"
      },
      "execution_count": 8,
      "outputs": [
        {
          "output_type": "stream",
          "name": "stderr",
          "text": [
            "<ipython-input-8-fdcadb7ee9bf>:1: FutureWarning: The default fill_method='pad' in DataFrame.pct_change is deprecated and will be removed in a future version. Either fill in any non-leading NA values prior to calling pct_change or specify 'fill_method=None' to not fill NA values.\n",
            "  log_return = np.log(1 + price_data_frame.pct_change())\n"
          ]
        },
        {
          "output_type": "display_data",
          "data": {
            "text/plain": [
              "array([0.47088574, 0.00321339, 0.42879374, 0.62654405])"
            ]
          },
          "metadata": {}
        },
        {
          "output_type": "stream",
          "name": "stdout",
          "text": [
            "\n",
            "================================================================================\n",
            "PORTFOLIO WEIGHTS:\n",
            "--------------------------------------------------------------------------------\n",
            "   random_weights  rebalance_weights\n",
            "0        0.470886           0.307882\n",
            "1        0.003213           0.002101\n",
            "2        0.428794           0.280361\n",
            "3        0.626544           0.409657\n",
            "--------------------------------------------------------------------------------\n",
            "\n",
            "================================================================================\n",
            "PORTFOLIO METRICS:\n",
            "--------------------------------------------------------------------------------\n",
            "   Expected Portfolio Returns  Expected Portfolio Volatility  Portfolio Sharpe Ratio\n",
            "0                    0.405726                            NaN                     NaN\n",
            "--------------------------------------------------------------------------------\n"
          ]
        }
      ]
    },
    {
      "cell_type": "code",
      "source": [
        "num_of_portfolios = 3000\n",
        "num_assets= len(log_return.columns)\n",
        "\n",
        "all_weights= np.zeros((num_of_portfolios, number_of_symbols))\n",
        "ret_arr = np.zeros(num_of_portfolios)\n",
        "vol_arr = np.zeros(num_of_portfolios)\n",
        "sharpe_arr = np.zeros(num_of_portfolios)\n",
        "\n",
        "log_return_cleaned = log_return.dropna()\n",
        "\n",
        "for ind in range(num_of_portfolios):\n",
        "\n",
        "  weights = np.random.random(num_assets)\n",
        "  weights = weights/np.sum(weights)\n",
        "\n",
        "\n",
        "  ret_arr[ind]= np.sum((log_return_cleaned.mean() * weights) * 252)\n",
        "\n",
        "  vol_arr[ind] = np.sqrt(\n",
        "      np.dot(\n",
        "          weights.T,\n",
        "          np.dot(log_return_cleaned.cov() * 252,\n",
        "                 weights)\n",
        "      )\n",
        "  )\n",
        "\n",
        "  sharpe_arr[ind] = (ret_arr[ind] - .01) / vol_arr[ind]\n",
        "\n",
        "  all_weights[ind, :] = weights\n",
        "\n",
        "\n",
        "simulations_data = [ret_arr, vol_arr, sharpe_arr, all_weights]\n",
        "\n",
        "simulations_df = pd.DataFrame(data={\n",
        "    'Returns': ret_arr,\n",
        "    'Volatility': vol_arr,\n",
        "    'Sharpe Ratio': sharpe_arr,\n",
        "    'Portfolio Weights': list(all_weights)\n",
        "})\n",
        "\n",
        "simulations_df = simulations_df.infer_objects()\n",
        "\n",
        "print('')\n",
        "print('=' * 80)\n",
        "print('SIMULATIONS RESULT:')\n",
        "print('-' * 80)\n",
        "print(simulations_df.head())\n",
        "print('-' * 80)"
      ],
      "metadata": {
        "colab": {
          "base_uri": "https://localhost:8080/"
        },
        "id": "t6K00iQa48gj",
        "outputId": "0291ba92-828f-4c00-8c0d-0032aad94589"
      },
      "execution_count": 9,
      "outputs": [
        {
          "output_type": "stream",
          "name": "stderr",
          "text": [
            "/usr/local/lib/python3.11/dist-packages/numpy/lib/_function_base_impl.py:557: RuntimeWarning: Mean of empty slice.\n",
            "  avg = a.mean(axis, **keepdims_kw)\n",
            "/usr/local/lib/python3.11/dist-packages/numpy/_core/_methods.py:130: RuntimeWarning: invalid value encountered in divide\n",
            "  ret = um.true_divide(\n",
            "/usr/local/lib/python3.11/dist-packages/pandas/core/frame.py:11211: RuntimeWarning: Degrees of freedom <= 0 for slice\n",
            "  base_cov = np.cov(mat.T, ddof=ddof)\n",
            "/usr/local/lib/python3.11/dist-packages/numpy/lib/_function_base_impl.py:2773: RuntimeWarning: divide by zero encountered in divide\n",
            "  c *= np.true_divide(1, fact)\n",
            "/usr/local/lib/python3.11/dist-packages/numpy/lib/_function_base_impl.py:2773: RuntimeWarning: invalid value encountered in multiply\n",
            "  c *= np.true_divide(1, fact)\n"
          ]
        },
        {
          "output_type": "stream",
          "name": "stdout",
          "text": [
            "\n",
            "================================================================================\n",
            "SIMULATIONS RESULT:\n",
            "--------------------------------------------------------------------------------\n",
            "   Returns  Volatility  Sharpe Ratio                                                                    Portfolio Weights\n",
            "0      0.0         NaN           NaN   [0.17965274097146594, 0.14688518023103325, 0.5035177775938352, 0.1699443012036657]\n",
            "1      0.0         NaN           NaN  [0.26165254606859073, 0.16398496242005234, 0.5014454430840565, 0.07291704842730051]\n",
            "2      0.0         NaN           NaN  [0.01778895913779707, 0.5414398133362238, 0.27614426527980723, 0.16462696224617177]\n",
            "3      0.0         NaN           NaN   [0.22749393518900612, 0.1512470202938377, 0.32187492302894716, 0.2993841214882089]\n",
            "4      0.0         NaN           NaN    [0.28305139891383235, 0.3227298836217339, 0.210089192749971, 0.18412952471446276]\n",
            "--------------------------------------------------------------------------------\n"
          ]
        }
      ]
    },
    {
      "cell_type": "code",
      "source": [
        "if 'simulations_df' in locals() and not simulations_df.empty and not simulations_df['Sharpe Ratio'].dropna().empty:\n",
        "\n",
        "    max_sharpe_ratio = simulations_df.loc[simulations_df['Sharpe Ratio'].dropna().idxmax()]\n",
        "\n",
        "    min_volatility = simulations_df.loc[simulations_df['Volatility'].dropna().idxmin()]\n",
        "\n",
        "\n",
        "    print('')\n",
        "    print('=' * 80)\n",
        "    print('MAX SHARPE RATIO:')\n",
        "    print('-' * 80)\n",
        "    print(max_sharpe_ratio)\n",
        "    print('-' * 80)\n",
        "\n",
        "    print('')\n",
        "    print('=' * 80)\n",
        "    print('MIN VOLATILITY:')\n",
        "    print('-' * 80)\n",
        "    print(min_volatility)\n",
        "    print('-' * 80)\n",
        "else:\n",
        "    print(\"Cannot find max Sharpe Ratio or min Volatility: simulations_df is empty or 'Sharpe Ratio' or 'Volatility' columns contain only NaN values.\")"
      ],
      "metadata": {
        "colab": {
          "base_uri": "https://localhost:8080/"
        },
        "id": "DH4M1Mqd3JWn",
        "outputId": "e3df321d-e3eb-47a7-da7c-2eb60729e156"
      },
      "execution_count": 10,
      "outputs": [
        {
          "output_type": "stream",
          "name": "stdout",
          "text": [
            "Cannot find max Sharpe Ratio or min Volatility: simulations_df is empty or 'Sharpe Ratio' or 'Volatility' columns contain only NaN values.\n"
          ]
        }
      ]
    },
    {
      "cell_type": "code",
      "source": [
        "# %%\n",
        "%matplotlib inline\n",
        "\n",
        "plt.scatter(\n",
        "    y=simulations_df['Returns'],\n",
        "    x=simulations_df['Volatility'],\n",
        "    c=simulations_df['Sharpe Ratio'],\n",
        "    cmap='RdYlBu'\n",
        ")\n",
        "\n",
        "plt.title('Portfolio Returns Vs Risk')\n",
        "plt.colorbar(label='Sharpe Ratio')\n",
        "plt.xlabel('Standard Deviation')\n",
        "plt.ylabel('Returns')\n",
        "\n",
        "# Check if max_sharpe_ratio was defined before attempting to plot it\n",
        "if 'max_sharpe_ratio' in locals():\n",
        "    plt.scatter(\n",
        "        max_sharpe_ratio[1],\n",
        "        max_sharpe_ratio[0],\n",
        "        marker=(5,1,0),\n",
        "        color='b',\n",
        "        s=600\n",
        "    )\n",
        "else:\n",
        "    print(\"Max Sharpe Ratio point cannot be plotted as it was not calculated.\")\n",
        "\n",
        "\n",
        "plt.show()"
      ],
      "metadata": {
        "colab": {
          "base_uri": "https://localhost:8080/",
          "height": 489
        },
        "id": "uqTyKUgM-kT7",
        "outputId": "c75c76d8-338d-4c29-ffce-9d0d12500c4d"
      },
      "execution_count": 12,
      "outputs": [
        {
          "output_type": "stream",
          "name": "stdout",
          "text": [
            "Max Sharpe Ratio point cannot be plotted as it was not calculated.\n"
          ]
        },
        {
          "output_type": "display_data",
          "data": {
            "text/plain": [
              "<Figure size 640x480 with 2 Axes>"
            ],
            "image/png": "[encoded data removed]"
          },
          "metadata": {}
        }
      ]
    },
    {
      "cell_type": "code",
      "source": [
        "def get_metrics(weights: list) -> np.array:\n",
        "  weights = np.array(weights)\n",
        "\n",
        "\n",
        "  ret = np.sum((log_return_cleaned.mean() * weights) * 252)\n",
        "\n",
        "  cov_matrix = log_return_cleaned.cov() * 252\n",
        "  vol = np.sqrt(\n",
        "        np.dot(weights.T, np.dot(cov_matrix, weights))\n",
        "    )\n",
        "\n",
        "\n",
        "  if vol == 0:\n",
        "        sr = -np.inf\n",
        "  else:\n",
        "        sr = (ret - .01) / vol\n",
        "\n",
        "  return np.array([ret, vol, sr])\n",
        "\n",
        "def grab_negative_sharpe(weights: list) -> np.array:\n",
        "\n",
        "    metrics = get_metrics(weights)\n",
        "\n",
        "\n",
        "    if np.isinf(metrics[2]):\n",
        "        return metrics[2] * -1\n",
        "    else:\n",
        "        return metrics[2] * -1\n",
        "\n",
        "\n",
        "def grab_volatility(weights: list) -> np.array:\n",
        "\n",
        "    metrics = get_metrics(weights)\n",
        "    return metrics[1]\n",
        "\n",
        "def check_sum(weights: list) -> float:\n",
        "\n",
        "    return np.sum(weights) - 1.0"
      ],
      "metadata": {
        "id": "Jwmc7KR8Edje"
      },
      "execution_count": 13,
      "outputs": []
    },
    {
      "cell_type": "code",
      "source": [
        "bounds = tuple((0,1) for symbol in range(number_of_symbols))\n",
        "cons = ({'type': 'eq', 'fun': check_sum})\n",
        "\n",
        "init_guess = number_of_symbols * [1 / number_of_symbols]\n",
        "\n",
        "optimized_sharpe = sci_plt.minimize(\n",
        "      grab_negative_sharpe,\n",
        "      init_guess,\n",
        "      method='SLSQP',\n",
        "      bounds=bounds,\n",
        "      constraints=cons\n",
        "  )\n",
        "\n",
        "print('')\n",
        "print('=' * 80)\n",
        "print('OPTIMIZED SHARPE RATIO: ')\n",
        "print('-' * 80)\n",
        "print(optimized_sharpe)\n",
        "print('-' * 80)"
      ],
      "metadata": {
        "colab": {
          "base_uri": "https://localhost:8080/"
        },
        "id": "X3Gadf2XMOq-",
        "outputId": "13f73de0-3797-4377-da9f-20d1337a3d82"
      },
      "execution_count": 14,
      "outputs": [
        {
          "output_type": "stream",
          "name": "stdout",
          "text": [
            "\n",
            "================================================================================\n",
            "OPTIMIZED SHARPE RATIO: \n",
            "--------------------------------------------------------------------------------\n",
            " message: Inequality constraints incompatible\n",
            " success: False\n",
            "  status: 4\n",
            "     fun: nan\n",
            "       x: [ 2.500e-01  2.500e-01  2.500e-01  2.500e-01]\n",
            "     nit: 1\n",
            "     jac: [       nan        nan        nan        nan]\n",
            "    nfev: 5\n",
            "    njev: 1\n",
            "--------------------------------------------------------------------------------\n"
          ]
        },
        {
          "output_type": "stream",
          "name": "stderr",
          "text": [
            "/usr/local/lib/python3.11/dist-packages/numpy/lib/_function_base_impl.py:557: RuntimeWarning: Mean of empty slice.\n",
            "  avg = a.mean(axis, **keepdims_kw)\n",
            "/usr/local/lib/python3.11/dist-packages/numpy/_core/_methods.py:130: RuntimeWarning: invalid value encountered in divide\n",
            "  ret = um.true_divide(\n",
            "/usr/local/lib/python3.11/dist-packages/pandas/core/frame.py:11211: RuntimeWarning: Degrees of freedom <= 0 for slice\n",
            "  base_cov = np.cov(mat.T, ddof=ddof)\n",
            "/usr/local/lib/python3.11/dist-packages/numpy/lib/_function_base_impl.py:2773: RuntimeWarning: divide by zero encountered in divide\n",
            "  c *= np.true_divide(1, fact)\n",
            "/usr/local/lib/python3.11/dist-packages/numpy/lib/_function_base_impl.py:2773: RuntimeWarning: invalid value encountered in multiply\n",
            "  c *= np.true_divide(1, fact)\n"
          ]
        }
      ]
    },
    {
      "cell_type": "code",
      "source": [
        "# %%\n",
        "optimized_metrics = get_metrics(weights=optimized_sharpe.x)\n",
        "\n",
        "print('')\n",
        "print('=' * 80)\n",
        "print('OPTIMIZED WEIGHTS:')\n",
        "print('-' * 80)\n",
        "# Print the weights from the optimized_sharpe result\n",
        "print(optimized_sharpe.x)\n",
        "print('-' * 80)\n",
        "\n",
        "print('')\n",
        "print('=' * 80)\n",
        "print('OPTIMIZED METRICS:')\n",
        "print('-' * 80)\n",
        "# Print the metrics calculated from the optimized weights\n",
        "print(optimized_metrics)\n",
        "print('-' * 80)"
      ],
      "metadata": {
        "colab": {
          "base_uri": "https://localhost:8080/"
        },
        "id": "aylimohIMoyB",
        "outputId": "8e583fd4-c4a4-4c8b-9590-4f32a24dc936"
      },
      "execution_count": 17,
      "outputs": [
        {
          "output_type": "stream",
          "name": "stdout",
          "text": [
            "\n",
            "================================================================================\n",
            "OPTIMIZED WEIGHTS:\n",
            "--------------------------------------------------------------------------------\n",
            "[0.25 0.25 0.25 0.25]\n",
            "--------------------------------------------------------------------------------\n",
            "\n",
            "================================================================================\n",
            "OPTIMIZED METRICS:\n",
            "--------------------------------------------------------------------------------\n",
            "[ 0. nan nan]\n",
            "--------------------------------------------------------------------------------\n"
          ]
        },
        {
          "output_type": "stream",
          "name": "stderr",
          "text": [
            "/usr/local/lib/python3.11/dist-packages/numpy/lib/_function_base_impl.py:557: RuntimeWarning: Mean of empty slice.\n",
            "  avg = a.mean(axis, **keepdims_kw)\n",
            "/usr/local/lib/python3.11/dist-packages/numpy/_core/_methods.py:130: RuntimeWarning: invalid value encountered in divide\n",
            "  ret = um.true_divide(\n",
            "/usr/local/lib/python3.11/dist-packages/pandas/core/frame.py:11211: RuntimeWarning: Degrees of freedom <= 0 for slice\n",
            "  base_cov = np.cov(mat.T, ddof=ddof)\n",
            "/usr/local/lib/python3.11/dist-packages/numpy/lib/_function_base_impl.py:2773: RuntimeWarning: divide by zero encountered in divide\n",
            "  c *= np.true_divide(1, fact)\n",
            "/usr/local/lib/python3.11/dist-packages/numpy/lib/_function_base_impl.py:2773: RuntimeWarning: invalid value encountered in multiply\n",
            "  c *= np.true_divide(1, fact)\n"
          ]
        }
      ]
    },
    {
      "cell_type": "code",
      "source": [
        "bounds = tuple((0,1) for symbol in range(number_of_symbols))\n",
        "cons = ({'type': 'eq', 'fun': check_sum})\n",
        "\n",
        "init_guess = number_of_symbols * [1 / number_of_symbols]\n",
        "\n",
        "optimized_volatility = sci_plt.minimize(\n",
        "      grab_volatility,\n",
        "      init_guess,\n",
        "      method='SLSQP',\n",
        "      bounds=bounds,\n",
        "      constraints=cons\n",
        "  )\n",
        "\n",
        "print('')\n",
        "print('=' * 80)\n",
        "print('OPTIMIZED VOLATILITY: ')\n",
        "print('-' * 80)\n",
        "print(optimized_volatility)\n",
        "print('-' * 80)"
      ],
      "metadata": {
        "colab": {
          "base_uri": "https://localhost:8080/"
        },
        "id": "Rnp6yMs1Y5qR",
        "outputId": "4a95fd0c-6666-486b-ac6a-e35839703fc2"
      },
      "execution_count": 18,
      "outputs": [
        {
          "output_type": "stream",
          "name": "stdout",
          "text": [
            "\n",
            "================================================================================\n",
            "OPTIMIZED VOLATILITY: \n",
            "--------------------------------------------------------------------------------\n",
            " message: Inequality constraints incompatible\n",
            " success: False\n",
            "  status: 4\n",
            "     fun: nan\n",
            "       x: [ 2.500e-01  2.500e-01  2.500e-01  2.500e-01]\n",
            "     nit: 1\n",
            "     jac: [       nan        nan        nan        nan]\n",
            "    nfev: 5\n",
            "    njev: 1\n",
            "--------------------------------------------------------------------------------\n"
          ]
        }
      ]
    },
    {
      "cell_type": "code",
      "source": [
        "if 'simulations_df' in locals() and not simulations_df.empty and not simulations_df['Sharpe Ratio'].dropna().empty:\n",
        "\n",
        "    max_sharpe_ratio = simulations_df.loc[simulations_df['Sharpe Ratio'].dropna().idxmax()]\n",
        "\n",
        "    min_volatility = simulations_df.loc[simulations_df['Volatility'].dropna().idxmin()]\n",
        "\n",
        "\n",
        "    print('')\n",
        "    print('=' * 80)\n",
        "    print('MAX SHARPE RATIO:')\n",
        "    print('-' * 80)\n",
        "    print(max_sharpe_ratio)\n",
        "    print('-' * 80)\n",
        "\n",
        "    print('')\n",
        "    print('=' * 80)\n",
        "    print('MIN VOLATILITY:')\n",
        "    print('-' * 80)\n",
        "    print(min_volatility)\n",
        "    print('-' * 80)\n",
        "else:\n",
        "    print(\"Cannot find max Sharpe Ratio or min Volatility: simulations_df is empty or 'Sharpe Ratio' or 'Volatility' columns contain only NaN values.\")"
      ],
      "metadata": {
        "colab": {
          "base_uri": "https://localhost:8080/"
        },
        "id": "3sX2dNPhadYl",
        "outputId": "829bf302-5603-4618-ce38-802c268152f2"
      },
      "execution_count": 20,
      "outputs": [
        {
          "output_type": "stream",
          "name": "stdout",
          "text": [
            "Cannot find max Sharpe Ratio or min Volatility: simulations_df is empty or 'Sharpe Ratio' or 'Volatility' columns contain only NaN values.\n"
          ]
        }
      ]
    },
    {
      "cell_type": "code",
      "source": [],
      "metadata": {
        "id": "3TN5zFvsK2oi"
      },
      "execution_count": null,
      "outputs": []
    }
  ],
  "metadata": {
    "colab": {
      "provenance": []
    },
    "kernelspec": {
      "display_name": "Python 3",
      "name": "python3"
    },
    "language_info": {
      "name": "python"
    }
  },
  "nbformat": 4,
  "nbformat_minor": 0
}